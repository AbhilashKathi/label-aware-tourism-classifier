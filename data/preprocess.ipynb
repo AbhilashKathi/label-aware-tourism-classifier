{
 "cells": [
  {
   "cell_type": "code",
   "execution_count": null,
   "id": "7276c1f4",
   "metadata": {},
   "outputs": [],
   "source": [
    "import pandas as pd"
   ]
  },
  {
   "cell_type": "code",
   "execution_count": null,
   "id": "d725e806",
   "metadata": {},
   "outputs": [],
   "source": [
    "df = pd.read_csv('dataset.csv')"
   ]
  },
  {
   "cell_type": "code",
   "execution_count": null,
   "id": "9ac4c9aa",
   "metadata": {},
   "outputs": [],
   "source": [
    "df.head()"
   ]
  },
  {
   "cell_type": "code",
   "execution_count": null,
   "id": "51e062a6",
   "metadata": {},
   "outputs": [],
   "source": [
    "df = df[['Title','Plot','Genre']]"
   ]
  },
  {
   "cell_type": "code",
   "execution_count": null,
   "id": "6c9c5c86",
   "metadata": {},
   "outputs": [],
   "source": [
    "df.head()"
   ]
  },
  {
   "cell_type": "code",
   "execution_count": null,
   "id": "6b376fe2",
   "metadata": {},
   "outputs": [],
   "source": [
    "genres = df.Genre.unique()\n",
    "print(genres)\n",
    "genres.size"
   ]
  },
  {
   "cell_type": "code",
   "execution_count": null,
   "id": "92179502",
   "metadata": {},
   "outputs": [],
   "source": [
    "df = df[df.Genre!='unknown']\n",
    "df = df[~df.Genre.str.contains(r\",|/| |-\", regex=True)]\n",
    "df.head()"
   ]
  },
  {
   "cell_type": "code",
   "execution_count": null,
   "id": "827b26f3",
   "metadata": {},
   "outputs": [],
   "source": [
    "df.count"
   ]
  },
  {
   "cell_type": "code",
   "execution_count": null,
   "id": "e6bdd8ed",
   "metadata": {},
   "outputs": [],
   "source": [
    "df.Genre.value_counts().head(10)"
   ]
  },
  {
   "cell_type": "code",
   "execution_count": null,
   "id": "e84d16b4",
   "metadata": {},
   "outputs": [],
   "source": [
    "restrictions = ['drama', 'comedy', 'horror', 'action', 'thriller', 'romance']\n",
    "\n",
    "df = df[df['Genre'].isin(restrictions)]\n",
    "an=df.loc[df['Title']=='Mummy','Plot'].iloc[0]"
   ]
  },
  {
   "cell_type": "code",
   "execution_count": null,
   "id": "73d2d10e",
   "metadata": {},
   "outputs": [],
   "source": [
    "an"
   ]
  }
 ],
 "metadata": {
  "kernelspec": {
   "display_name": "base",
   "language": "python",
   "name": "python3"
  },
  "language_info": {
   "codemirror_mode": {
    "name": "ipython",
    "version": 3
   },
   "file_extension": ".py",
   "mimetype": "text/x-python",
   "name": "python",
   "nbconvert_exporter": "python",
   "pygments_lexer": "ipython3",
   "version": "3.13.5"
  }
 },
 "nbformat": 4,
 "nbformat_minor": 5
}
