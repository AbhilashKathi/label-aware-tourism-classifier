{
 "cells": [
  {
   "cell_type": "code",
   "execution_count": null,
   "id": "7276c1f4",
   "metadata": {},
   "outputs": [],
   "source": [
    "import pandas as pd"
   ]
  },
  {
   "cell_type": "code",
   "execution_count": null,
   "id": "d725e806",
   "metadata": {},
   "outputs": [],
   "source": [
    "df = pd.read_csv('dataset.csv')"
   ]
  },
  {
   "cell_type": "code",
   "execution_count": null,
   "id": "9ac4c9aa",
   "metadata": {},
   "outputs": [],
   "source": [
    "df.head()"
   ]
  },
  {
   "cell_type": "code",
   "execution_count": null,
   "id": "51e062a6",
   "metadata": {},
   "outputs": [],
   "source": [
    "df = df[['Title','Plot','Genre']]"
   ]
  },
  {
   "cell_type": "code",
   "execution_count": null,
   "id": "6c9c5c86",
   "metadata": {},
   "outputs": [],
   "source": [
    "df.head()"
   ]
  },
  {
   "cell_type": "code",
   "execution_count": null,
   "id": "6b376fe2",
   "metadata": {},
   "outputs": [],
   "source": [
    "genres = df.Genre.unique()\n",
    "print(genres)\n",
    "genres.size"
   ]
  },
  {
   "cell_type": "code",
   "execution_count": null,
   "id": "92179502",
   "metadata": {},
   "outputs": [],
   "source": [
    "df = df[df.Genre!='unknown']\n",
    "df = df[~df.Genre.str.contains(r\",|/| |-\", regex=True)]\n",
    "df.head()"
   ]
  },
  {
   "cell_type": "code",
   "execution_count": null,
   "id": "827b26f3",
   "metadata": {},
   "outputs": [],
   "source": [
    "df.count"
   ]
  },
  {
   "cell_type": "code",
   "execution_count": null,
   "id": "e6bdd8ed",
   "metadata": {},
   "outputs": [],
   "source": [
    "df.Genre.value_counts().head(10)"
   ]
  },
  {
   "cell_type": "code",
   "execution_count": null,
   "id": "e84d16b4",
   "metadata": {},
   "outputs": [],
   "source": [
    "restrictions = ['drama', 'comedy', 'horror', 'action', 'thriller', 'romance']\n",
    "\n",
    "df = df[df['Genre'].isin(restrictions)]\n",
    "an=df.loc[df['Title']=='Mummy','Plot'].iloc[0]"
   ]
  },
  {
   "cell_type": "code",
<<<<<<< HEAD
   "execution_count": null,
   "id": "73d2d10e",
   "metadata": {},
   "outputs": [],
   "source": [
    "an"
   ]
=======
   "execution_count": 42,
   "id": "7ee22e06",
   "metadata": {},
   "outputs": [],
   "source": [
    "from sklearn.feature_extraction.text import TfidfVectorizer\n",
    "from sklearn.naive_bayes import MultinomialNB\n",
    "from sklearn.model_selection import train_test_split\n",
    "from sklearn.pipeline import Pipeline\n",
    "from sklearn.metrics import classification_report"
   ]
  },
  {
   "cell_type": "code",
   "execution_count": 44,
   "id": "b554184f",
   "metadata": {},
   "outputs": [
    {
     "name": "stdout",
     "output_type": "stream",
     "text": [
      "              precision    recall  f1-score   support\n",
      "\n",
      "      action       0.63      0.54      0.58       189\n",
      "      comedy       0.59      0.50      0.54       202\n",
      "       drama       0.43      0.37      0.40       174\n",
      "      horror       0.65      0.90      0.76       168\n",
      "     romance       0.51      0.77      0.61       179\n",
      "    thriller       0.49      0.29      0.36       196\n",
      "\n",
      "    accuracy                           0.56      1108\n",
      "   macro avg       0.55      0.56      0.54      1108\n",
      "weighted avg       0.55      0.56      0.54      1108\n",
      "\n"
     ]
    }
   ],
   "source": [
    "X_train,X_test,Y_train,Y_test = train_test_split(df['Plot'],df['Genre'],test_size=0.2,random_state=69)\n",
    "pipeline = Pipeline([\n",
    "    (\"tfidf\", TfidfVectorizer(stop_words=\"english\",max_features=5000)),\n",
    "    (\"clf\", MultinomialNB())\n",
    "])\n",
    "pipeline.fit(X_train,Y_train)\n",
    "y_pred = pipeline.predict(X_test)\n",
    "print(classification_report(Y_test,y_pred))"
   ]
  },
  {
   "cell_type": "code",
   "execution_count": null,
   "id": "c0265fa5",
   "metadata": {},
   "outputs": [],
   "source": []
>>>>>>> 71dfa211462f4dc78567e15dc70a0bb86f345e63
  }
 ],
 "metadata": {
  "kernelspec": {
   "display_name": "base",
   "language": "python",
   "name": "python3"
  },
  "language_info": {
   "codemirror_mode": {
    "name": "ipython",
    "version": 3
   },
   "file_extension": ".py",
   "mimetype": "text/x-python",
   "name": "python",
   "nbconvert_exporter": "python",
   "pygments_lexer": "ipython3",
   "version": "3.13.5"
  }
 },
 "nbformat": 4,
 "nbformat_minor": 5
}
